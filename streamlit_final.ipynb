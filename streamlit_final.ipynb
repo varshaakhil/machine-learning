{
  "nbformat": 4,
  "nbformat_minor": 0,
  "metadata": {
    "colab": {
      "name": "streamlit_final.ipynb",
      "provenance": [],
      "collapsed_sections": []
    },
    "kernelspec": {
      "name": "python3",
      "display_name": "Python 3"
    }
  },
  "cells": [
    {
      "cell_type": "code",
      "metadata": {
        "id": "AWfU_hdSNBct"
      },
      "source": [
        "#!pip install ipykernel==4.10 "
      ],
      "execution_count": 1,
      "outputs": []
    },
    {
      "cell_type": "code",
      "metadata": {
        "id": "Ckmz102rNZrB"
      },
      "source": [
        "!pip install --upgrade streamlit -q"
      ],
      "execution_count": 2,
      "outputs": []
    },
    {
      "cell_type": "code",
      "metadata": {
        "id": "FcVR237FNcsN"
      },
      "source": [
        "!pip install pyngrok -q"
      ],
      "execution_count": 3,
      "outputs": []
    },
    {
      "cell_type": "code",
      "metadata": {
        "colab": {
          "base_uri": "https://localhost:8080/"
        },
        "id": "dmFuysx9N6sj",
        "outputId": "648e7529-8ca4-4dc2-ce97-ef646a90a167"
      },
      "source": [
        "from pyngrok import ngrok\n",
        "public_url = ngrok.connect(port='80')\n",
        "print (public_url)"
      ],
      "execution_count": 4,
      "outputs": [
        {
          "output_type": "stream",
          "text": [
            "NgrokTunnel: \"http://bce32bf1f22d.ngrok.io\" -> \"http://localhost:80\"\n"
          ],
          "name": "stdout"
        }
      ]
    },
    {
      "cell_type": "code",
      "metadata": {
        "id": "j7wGFHJ_OgtK"
      },
      "source": [
        "import streamlit"
      ],
      "execution_count": 5,
      "outputs": []
    },
    {
      "cell_type": "code",
      "metadata": {
        "id": "DZRxVJNZSfzK"
      },
      "source": [
        "#!pip install pycaret"
      ],
      "execution_count": 6,
      "outputs": []
    },
    {
      "cell_type": "code",
      "metadata": {
        "colab": {
          "base_uri": "https://localhost:8080/"
        },
        "id": "FhdZqHCcPKGE",
        "outputId": "1c42f101-d371-45a4-829a-05e11a5c1c35"
      },
      "source": [
        "!streamlit run --server.port 80 stream_employeetest1.py >/dev/null"
      ],
      "execution_count": null,
      "outputs": [
        {
          "output_type": "stream",
          "text": [
            "2020-11-26 07:59:11.588 Initializing load_model()\n",
            "2020-11-26 07:59:11.589 load_model(verbose=True, authentication=None, platform=None, model_name=final rf model)\n"
          ],
          "name": "stdout"
        },
        {
          "output_type": "stream",
          "text": [
            "2020-11-26 07:59:35.123 INFO    pyngrok.process.ngrok: t=2020-11-26T07:59:35+0000 lvl=info msg=\"join connections\" obj=join id=d935be9336ca l=127.0.0.1:80 r=43.229.90.133:15097\n",
            "2020-11-26 07:59:35.869 INFO    pyngrok.process.ngrok: t=2020-11-26T07:59:35+0000 lvl=info msg=\"join connections\" obj=join id=efab0e36dcb8 l=127.0.0.1:80 r=43.229.90.133:65240\n",
            "2020-11-26 08:00:14.593 INFO    pyngrok.process.ngrok: t=2020-11-26T08:00:14+0000 lvl=info msg=\"join connections\" obj=join id=22759b4b48b8 l=127.0.0.1:80 r=43.229.90.133:59908\n",
            "2020-11-26 08:00:15.225 INFO    pyngrok.process.ngrok: t=2020-11-26T08:00:15+0000 lvl=info msg=\"join connections\" obj=join id=a537c5d9ca50 l=127.0.0.1:80 r=43.229.90.133:58241\n",
            "2020-11-26 08:00:15.318 INFO    pyngrok.process.ngrok: t=2020-11-26T08:00:15+0000 lvl=info msg=\"join connections\" obj=join id=db7453c4fcc6 l=127.0.0.1:80 r=43.229.90.133:43255\n",
            "2020-11-26 08:00:15.572 INFO    pyngrok.process.ngrok: t=2020-11-26T08:00:15+0000 lvl=info msg=\"join connections\" obj=join id=33542a15471f l=127.0.0.1:80 r=43.229.90.133:58241\n",
            "2020-11-26 08:01:00.386 INFO    pyngrok.process.ngrok: t=2020-11-26T08:01:00+0000 lvl=info msg=\"join connections\" obj=join id=aeaf0ebd4d75 l=127.0.0.1:80 r=43.229.90.133:39901\n"
          ],
          "name": "stderr"
        },
        {
          "output_type": "stream",
          "text": [
            "2020-11-26 08:01:00.708 Initializing load_model()\n",
            "2020-11-26 08:01:00.708 load_model(verbose=True, authentication=None, platform=None, model_name=final rf model)\n",
            "2020-11-26 08:01:19.657 Initializing load_model()\n",
            "2020-11-26 08:01:19.657 load_model(verbose=True, authentication=None, platform=None, model_name=final rf model)\n",
            "2020-11-26 08:01:19.784 Initializing predict_model()\n",
            "2020-11-26 08:01:19.785 predict_model(display=None, ml_usecase=MLUsecase.CLASSIFICATION, verbose=True, round=4, encoded_labels=False, probability_threshold=None, estimator=Pipeline(steps=[('dtypes',\n",
            "                 DataTypes_Auto_infer(ml_usecase='classification',\n",
            "                                      target='left')),\n",
            "                ('imputer',\n",
            "                 Simple_Imputer(categorical_strategy='not_available',\n",
            "                                fill_value_categorical=None,\n",
            "                                fill_value_numerical=None,\n",
            "                                numeric_strategy='mean',\n",
            "                                target_variable=None)),\n",
            "                ('new_levels1',\n",
            "                 New_Catagorical_Levels_in_TestData(replacement_strategy='least '\n",
            "                                                                         'frequent',\n",
            "                                                    target...\n",
            "                ('binn', 'passthrough'), ('rem_outliers', 'passthrough'),\n",
            "                ('cluster_all', 'passthrough'),\n",
            "                ('dummy', Dummify(target='left')),\n",
            "                ('fix_perfect', Remove_100(target='left')),\n",
            "                ('clean_names', Clean_Colum_Names()),\n",
            "                ('feature_select', 'passthrough'), ('fix_multi', 'passthrough'),\n",
            "                ('dfs', 'passthrough'), ('pca', 'passthrough'),\n",
            "                ['trained_model',\n",
            "                 RandomForestClassifier(n_jobs=-1, random_state=123)]]))\n",
            "2020-11-26 08:01:19.785 Checking exceptions\n",
            "2020-11-26 08:01:19.790 Preloading libraries\n",
            "2020-11-26 08:01:19.824 NumExpr defaulting to 2 threads.\n",
            "2020-11-26 08:02:17.007 Initializing load_model()\n",
            "2020-11-26 08:02:17.007 load_model(verbose=True, authentication=None, platform=None, model_name=final rf model)\n",
            "2020-11-26 08:02:23.378 Initializing load_model()\n",
            "2020-11-26 08:02:23.379 load_model(verbose=True, authentication=None, platform=None, model_name=final rf model)\n",
            "2020-11-26 08:02:31.285 Initializing load_model()\n",
            "2020-11-26 08:02:31.286 load_model(verbose=True, authentication=None, platform=None, model_name=final rf model)\n",
            "2020-11-26 08:02:58.410 Initializing load_model()\n",
            "2020-11-26 08:02:58.411 load_model(verbose=True, authentication=None, platform=None, model_name=final rf model)\n",
            "2020-11-26 08:03:00.142 Initializing load_model()\n",
            "2020-11-26 08:03:00.144 load_model(verbose=True, authentication=None, platform=None, model_name=final rf model)\n",
            "2020-11-26 08:03:00.271 Initializing predict_model()\n",
            "2020-11-26 08:03:00.271 predict_model(display=None, ml_usecase=MLUsecase.CLASSIFICATION, verbose=True, round=4, encoded_labels=False, probability_threshold=None, estimator=Pipeline(steps=[('dtypes',\n",
            "                 DataTypes_Auto_infer(ml_usecase='classification',\n",
            "                                      target='left')),\n",
            "                ('imputer',\n",
            "                 Simple_Imputer(categorical_strategy='not_available',\n",
            "                                fill_value_categorical=None,\n",
            "                                fill_value_numerical=None,\n",
            "                                numeric_strategy='mean',\n",
            "                                target_variable=None)),\n",
            "                ('new_levels1',\n",
            "                 New_Catagorical_Levels_in_TestData(replacement_strategy='least '\n",
            "                                                                         'frequent',\n",
            "                                                    target...\n",
            "                ('binn', 'passthrough'), ('rem_outliers', 'passthrough'),\n",
            "                ('cluster_all', 'passthrough'),\n",
            "                ('dummy', Dummify(target='left')),\n",
            "                ('fix_perfect', Remove_100(target='left')),\n",
            "                ('clean_names', Clean_Colum_Names()),\n",
            "                ('feature_select', 'passthrough'), ('fix_multi', 'passthrough'),\n",
            "                ('dfs', 'passthrough'), ('pca', 'passthrough'),\n",
            "                ['trained_model',\n",
            "                 RandomForestClassifier(n_jobs=-1, random_state=123)]]))\n",
            "2020-11-26 08:03:00.273 Checking exceptions\n",
            "2020-11-26 08:03:00.274 Preloading libraries\n"
          ],
          "name": "stdout"
        }
      ]
    }
  ]
}