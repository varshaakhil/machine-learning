{
  "nbformat": 4,
  "nbformat_minor": 0,
  "metadata": {
    "colab": {
      "name": "streamlit.ipynb",
      "provenance": [],
      "collapsed_sections": []
    },
    "kernelspec": {
      "name": "python3",
      "display_name": "Python 3"
    }
  },
  "cells": [
    {
      "cell_type": "code",
      "metadata": {
        "colab": {
          "base_uri": "https://localhost:8080/",
          "height": 626
        },
        "id": "JygdcY3kBrGc",
        "outputId": "4fc93d61-6c3d-4d9f-a545-e55e08e18894"
      },
      "source": [
        "!pip install ipykernel==4.10 # only for colab ,and after this please restart"
      ],
      "execution_count": 1,
      "outputs": [
        {
          "output_type": "stream",
          "text": [
            "Collecting ipykernel==4.10\n",
            "\u001b[?25l  Downloading https://files.pythonhosted.org/packages/22/5e/69b0ae84e0cd7c8d4467e0a7b390c560d8c7642493329b15461b41e20fcc/ipykernel-4.10.0-py3-none-any.whl (109kB)\n",
            "\r\u001b[K     |███                             | 10kB 10.1MB/s eta 0:00:01\r\u001b[K     |██████                          | 20kB 14.4MB/s eta 0:00:01\r\u001b[K     |█████████                       | 30kB 13.9MB/s eta 0:00:01\r\u001b[K     |████████████                    | 40kB 9.6MB/s eta 0:00:01\r\u001b[K     |███████████████                 | 51kB 5.3MB/s eta 0:00:01\r\u001b[K     |█████████████████▉              | 61kB 5.6MB/s eta 0:00:01\r\u001b[K     |████████████████████▉           | 71kB 6.0MB/s eta 0:00:01\r\u001b[K     |███████████████████████▉        | 81kB 6.4MB/s eta 0:00:01\r\u001b[K     |██████████████████████████▉     | 92kB 6.8MB/s eta 0:00:01\r\u001b[K     |█████████████████████████████▉  | 102kB 6.7MB/s eta 0:00:01\r\u001b[K     |████████████████████████████████| 112kB 6.7MB/s \n",
            "\u001b[?25hRequirement already satisfied: jupyter-client in /usr/local/lib/python3.6/dist-packages (from ipykernel==4.10) (5.3.5)\n",
            "Requirement already satisfied: tornado>=4.0 in /usr/local/lib/python3.6/dist-packages (from ipykernel==4.10) (5.1.1)\n",
            "Requirement already satisfied: traitlets>=4.1.0 in /usr/local/lib/python3.6/dist-packages (from ipykernel==4.10) (4.3.3)\n",
            "Requirement already satisfied: ipython>=4.0.0 in /usr/local/lib/python3.6/dist-packages (from ipykernel==4.10) (5.5.0)\n",
            "Requirement already satisfied: python-dateutil>=2.1 in /usr/local/lib/python3.6/dist-packages (from jupyter-client->ipykernel==4.10) (2.8.1)\n",
            "Requirement already satisfied: pyzmq>=13 in /usr/local/lib/python3.6/dist-packages (from jupyter-client->ipykernel==4.10) (20.0.0)\n",
            "Requirement already satisfied: jupyter-core>=4.6.0 in /usr/local/lib/python3.6/dist-packages (from jupyter-client->ipykernel==4.10) (4.7.0)\n",
            "Requirement already satisfied: ipython-genutils in /usr/local/lib/python3.6/dist-packages (from traitlets>=4.1.0->ipykernel==4.10) (0.2.0)\n",
            "Requirement already satisfied: decorator in /usr/local/lib/python3.6/dist-packages (from traitlets>=4.1.0->ipykernel==4.10) (4.4.2)\n",
            "Requirement already satisfied: six in /usr/local/lib/python3.6/dist-packages (from traitlets>=4.1.0->ipykernel==4.10) (1.15.0)\n",
            "Requirement already satisfied: prompt-toolkit<2.0.0,>=1.0.4 in /usr/local/lib/python3.6/dist-packages (from ipython>=4.0.0->ipykernel==4.10) (1.0.18)\n",
            "Requirement already satisfied: pickleshare in /usr/local/lib/python3.6/dist-packages (from ipython>=4.0.0->ipykernel==4.10) (0.7.5)\n",
            "Requirement already satisfied: simplegeneric>0.8 in /usr/local/lib/python3.6/dist-packages (from ipython>=4.0.0->ipykernel==4.10) (0.8.1)\n",
            "Requirement already satisfied: pexpect; sys_platform != \"win32\" in /usr/local/lib/python3.6/dist-packages (from ipython>=4.0.0->ipykernel==4.10) (4.8.0)\n",
            "Requirement already satisfied: pygments in /usr/local/lib/python3.6/dist-packages (from ipython>=4.0.0->ipykernel==4.10) (2.6.1)\n",
            "Requirement already satisfied: setuptools>=18.5 in /usr/local/lib/python3.6/dist-packages (from ipython>=4.0.0->ipykernel==4.10) (50.3.2)\n",
            "Requirement already satisfied: wcwidth in /usr/local/lib/python3.6/dist-packages (from prompt-toolkit<2.0.0,>=1.0.4->ipython>=4.0.0->ipykernel==4.10) (0.2.5)\n",
            "Requirement already satisfied: ptyprocess>=0.5 in /usr/local/lib/python3.6/dist-packages (from pexpect; sys_platform != \"win32\"->ipython>=4.0.0->ipykernel==4.10) (0.6.0)\n",
            "Installing collected packages: ipykernel\n",
            "  Found existing installation: ipykernel 4.10.1\n",
            "    Uninstalling ipykernel-4.10.1:\n",
            "      Successfully uninstalled ipykernel-4.10.1\n",
            "Successfully installed ipykernel-4.10.0\n"
          ],
          "name": "stdout"
        },
        {
          "output_type": "display_data",
          "data": {
            "application/vnd.colab-display-data+json": {
              "pip_warning": {
                "packages": [
                  "ipykernel"
                ]
              }
            }
          },
          "metadata": {
            "tags": []
          }
        }
      ]
    },
    {
      "cell_type": "code",
      "metadata": {
        "id": "FJNu2IL5CQso"
      },
      "source": [
        "!pip install --upgrade streamlit -q"
      ],
      "execution_count": 1,
      "outputs": []
    },
    {
      "cell_type": "code",
      "metadata": {
        "colab": {
          "base_uri": "https://localhost:8080/"
        },
        "id": "GHIW-1cnCnkP",
        "outputId": "3707e833-47ed-4240-de01-63fea30b0ec5"
      },
      "source": [
        "\n",
        "!pip install pyngrok -q"
      ],
      "execution_count": 2,
      "outputs": [
        {
          "output_type": "stream",
          "text": [
            "  Building wheel for pyngrok (setup.py) ... \u001b[?25l\u001b[?25hdone\n"
          ],
          "name": "stdout"
        }
      ]
    },
    {
      "cell_type": "code",
      "metadata": {
        "colab": {
          "base_uri": "https://localhost:8080/"
        },
        "id": "Rk16LEVVC8Jo",
        "outputId": "6cce398c-3c14-4548-ec1e-46fe80055027"
      },
      "source": [
        "from pyngrok import ngrok\n",
        "public_url = ngrok.connect(port='80')\n",
        "print (public_url)"
      ],
      "execution_count": 3,
      "outputs": [
        {
          "output_type": "stream",
          "text": [
            "NgrokTunnel: \"http://7b23383f31f3.ngrok.io\" -> \"http://localhost:80\"\n"
          ],
          "name": "stdout"
        }
      ]
    },
    {
      "cell_type": "code",
      "metadata": {
        "colab": {
          "base_uri": "https://localhost:8080/"
        },
        "id": "jJhgDC_CDSgh",
        "outputId": "1faea524-09d6-4fce-c641-a468c1a66253"
      },
      "source": [
        "import streamlit as st\n"
      ],
      "execution_count": 4,
      "outputs": [
        {
          "output_type": "stream",
          "text": [
            "/usr/local/lib/python3.6/dist-packages/requests/__init__.py:91: RequestsDependencyWarning: urllib3 (1.26.2) or chardet (3.0.4) doesn't match a supported version!\n",
            "  RequestsDependencyWarning)\n"
          ],
          "name": "stderr"
        }
      ]
    },
    {
      "cell_type": "code",
      "metadata": {
        "colab": {
          "base_uri": "https://localhost:8080/"
        },
        "id": "9ipwHX8tGULh",
        "outputId": "e9c94d4e-e496-4c22-ab7f-835fe7c91aec"
      },
      "source": [
        "!streamlit run --server.port 80 streamtest.py >/dev/null"
      ],
      "execution_count": 5,
      "outputs": [
        {
          "output_type": "stream",
          "text": [
            "/usr/local/lib/python3.6/dist-packages/requests/__init__.py:91: RequestsDependencyWarning: urllib3 (1.26.2) or chardet (3.0.4) doesn't match a supported version!\n",
            "  RequestsDependencyWarning)\n"
          ],
          "name": "stdout"
        },
        {
          "output_type": "stream",
          "text": [
            "2020-11-26 05:49:54.320 INFO    pyngrok.process.ngrok: t=2020-11-26T05:49:54+0000 lvl=info msg=\"join connections\" obj=join id=b13bfd27e461 l=127.0.0.1:80 r=43.229.90.133:14400\n",
            "2020-11-26 05:49:54.671 INFO    pyngrok.process.ngrok: t=2020-11-26T05:49:54+0000 lvl=info msg=\"join connections\" obj=join id=31d7d027feec l=127.0.0.1:80 r=43.229.90.133:5279\n",
            "2020-11-26 05:49:59.012 INFO    pyngrok.process.ngrok: t=2020-11-26T05:49:59+0000 lvl=info msg=\"join connections\" obj=join id=4bda9ddc4064 l=127.0.0.1:80 r=43.229.90.133:43732\n",
            "2020-11-26 05:51:02.447 INFO    pyngrok.process.ngrok: t=2020-11-26T05:51:02+0000 lvl=info msg=\"join connections\" obj=join id=df39cd64def0 l=127.0.0.1:80 r=103.154.54.139:10414\n",
            "2020-11-26 05:51:05.245 INFO    pyngrok.process.ngrok: t=2020-11-26T05:51:05+0000 lvl=info msg=\"join connections\" obj=join id=8438e61cfb50 l=127.0.0.1:80 r=103.154.54.139:10428\n",
            "2020-11-26 05:51:05.265 INFO    pyngrok.process.ngrok: t=2020-11-26T05:51:05+0000 lvl=info msg=\"join connections\" obj=join id=1a81928647c7 l=127.0.0.1:80 r=103.154.54.139:10370\n",
            "2020-11-26 05:51:16.133 INFO    pyngrok.process.ngrok: t=2020-11-26T05:51:16+0000 lvl=info msg=\"join connections\" obj=join id=f3cc4d83a79b l=127.0.0.1:80 r=103.154.54.139:10409\n",
            "2020-11-26 05:51:17.677 INFO    pyngrok.process.ngrok: t=2020-11-26T05:51:17+0000 lvl=info msg=\"join connections\" obj=join id=d036d1c32820 l=127.0.0.1:80 r=103.154.54.139:10419\n",
            "2020-11-26 05:51:42.725 INFO    pyngrok.process.ngrok: t=2020-11-26T05:51:42+0000 lvl=info msg=\"join connections\" obj=join id=0071a4e3898a l=127.0.0.1:80 r=103.154.54.251:3250\n",
            "2020-11-26 05:51:46.131 INFO    pyngrok.process.ngrok: t=2020-11-26T05:51:46+0000 lvl=info msg=\"join connections\" obj=join id=99d2a6532bba l=127.0.0.1:80 r=103.154.54.251:3260\n",
            "2020-11-26 05:53:24.473 INFO    pyngrok.process.ngrok: t=2020-11-26T05:53:24+0000 lvl=info msg=\"received stop request\" obj=app stopReq=\"{err:<nil> restart:false}\"\n"
          ],
          "name": "stderr"
        }
      ]
    }
  ]
}